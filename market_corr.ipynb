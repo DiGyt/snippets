{
  "nbformat": 4,
  "nbformat_minor": 0,
  "metadata": {
    "colab": {
      "provenance": [],
      "collapsed_sections": [
        "dPSjGQ27s8qY"
      ],
      "authorship_tag": "ABX9TyMkH0qpOQCGJk9h/MRpl4Ko",
      "include_colab_link": true
    },
    "kernelspec": {
      "name": "python3",
      "display_name": "Python 3"
    },
    "language_info": {
      "name": "python"
    },
    "gpuClass": "standard",
    "widgets": {
      "application/vnd.jupyter.widget-state+json": {
        "004626bd014d4083ba1951c0a2641918": {
          "model_module": "@jupyter-widgets/controls",
          "model_name": "VBoxModel",
          "model_module_version": "1.5.0",
          "state": {
            "_dom_classes": [
              "widget-interact"
            ],
            "_model_module": "@jupyter-widgets/controls",
            "_model_module_version": "1.5.0",
            "_model_name": "VBoxModel",
            "_view_count": null,
            "_view_module": "@jupyter-widgets/controls",
            "_view_module_version": "1.5.0",
            "_view_name": "VBoxView",
            "box_style": "",
            "children": [
              "IPY_MODEL_77fe80583bbb4d459727d40c60e7d00b",
              "IPY_MODEL_8f97660bb18b40b8ad0a43c92223ae99",
              "IPY_MODEL_77e3a2eaf7894e8db08581bb96e6ba10",
              "IPY_MODEL_d91dc5eaf5564031b45b123b37aba3b1",
              "IPY_MODEL_94fbaa8822cd490e87f6d799fd181c47",
              "IPY_MODEL_f3d54e370a5443f189e9603ced2c5eef"
            ],
            "layout": "IPY_MODEL_efff8f4331314740bd68c73a07f87f06"
          }
        },
        "77fe80583bbb4d459727d40c60e7d00b": {
          "model_module": "@jupyter-widgets/controls",
          "model_name": "TextModel",
          "model_module_version": "1.5.0",
          "state": {
            "_dom_classes": [],
            "_model_module": "@jupyter-widgets/controls",
            "_model_module_version": "1.5.0",
            "_model_name": "TextModel",
            "_view_count": null,
            "_view_module": "@jupyter-widgets/controls",
            "_view_module_version": "1.5.0",
            "_view_name": "TextView",
            "continuous_update": true,
            "description": "trend_query",
            "description_tooltip": null,
            "disabled": false,
            "layout": "IPY_MODEL_445174e50e3546b19e768fbaab31d2cd",
            "placeholder": "​",
            "style": "IPY_MODEL_f7e788805cd34f249ad0b9511e132cae",
            "value": "Market Crash"
          }
        },
        "8f97660bb18b40b8ad0a43c92223ae99": {
          "model_module": "@jupyter-widgets/controls",
          "model_name": "TextModel",
          "model_module_version": "1.5.0",
          "state": {
            "_dom_classes": [],
            "_model_module": "@jupyter-widgets/controls",
            "_model_module_version": "1.5.0",
            "_model_name": "TextModel",
            "_view_count": null,
            "_view_module": "@jupyter-widgets/controls",
            "_view_module_version": "1.5.0",
            "_view_name": "TextView",
            "continuous_update": true,
            "description": "stock_ticker",
            "description_tooltip": null,
            "disabled": false,
            "layout": "IPY_MODEL_559e38e4a4c443d78a3cff5358c98bf7",
            "placeholder": "​",
            "style": "IPY_MODEL_50f932ad1b3b444fa177d9492ddbeeff",
            "value": "SPY"
          }
        },
        "77e3a2eaf7894e8db08581bb96e6ba10": {
          "model_module": "@jupyter-widgets/controls",
          "model_name": "TextModel",
          "model_module_version": "1.5.0",
          "state": {
            "_dom_classes": [],
            "_model_module": "@jupyter-widgets/controls",
            "_model_module_version": "1.5.0",
            "_model_name": "TextModel",
            "_view_count": null,
            "_view_module": "@jupyter-widgets/controls",
            "_view_module_version": "1.5.0",
            "_view_name": "TextView",
            "continuous_update": true,
            "description": "start_date",
            "description_tooltip": null,
            "disabled": false,
            "layout": "IPY_MODEL_0e3746037f964ddbbc08bd2a2a9f4b70",
            "placeholder": "​",
            "style": "IPY_MODEL_cc492f7ea15343bfbe7a9092ccb11b45",
            "value": "2022-08-01"
          }
        },
        "d91dc5eaf5564031b45b123b37aba3b1": {
          "model_module": "@jupyter-widgets/controls",
          "model_name": "TextModel",
          "model_module_version": "1.5.0",
          "state": {
            "_dom_classes": [],
            "_model_module": "@jupyter-widgets/controls",
            "_model_module_version": "1.5.0",
            "_model_name": "TextModel",
            "_view_count": null,
            "_view_module": "@jupyter-widgets/controls",
            "_view_module_version": "1.5.0",
            "_view_name": "TextView",
            "continuous_update": true,
            "description": "end_date",
            "description_tooltip": null,
            "disabled": false,
            "layout": "IPY_MODEL_f53ca29b732340ad931c9cc9a519fa6d",
            "placeholder": "​",
            "style": "IPY_MODEL_96c59175841b4af3a0cfa94f422a1f29",
            "value": "2023-04-01"
          }
        },
        "94fbaa8822cd490e87f6d799fd181c47": {
          "model_module": "@jupyter-widgets/controls",
          "model_name": "ButtonModel",
          "model_module_version": "1.5.0",
          "state": {
            "_dom_classes": [],
            "_model_module": "@jupyter-widgets/controls",
            "_model_module_version": "1.5.0",
            "_model_name": "ButtonModel",
            "_view_count": null,
            "_view_module": "@jupyter-widgets/controls",
            "_view_module_version": "1.5.0",
            "_view_name": "ButtonView",
            "button_style": "",
            "description": "Run Interact",
            "disabled": false,
            "icon": "",
            "layout": "IPY_MODEL_17fbece30a7e4eb682df0751cefbf943",
            "style": "IPY_MODEL_800b3221758d4021b88061c171de6d51",
            "tooltip": ""
          }
        },
        "f3d54e370a5443f189e9603ced2c5eef": {
          "model_module": "@jupyter-widgets/output",
          "model_name": "OutputModel",
          "model_module_version": "1.0.0",
          "state": {
            "_dom_classes": [],
            "_model_module": "@jupyter-widgets/output",
            "_model_module_version": "1.0.0",
            "_model_name": "OutputModel",
            "_view_count": null,
            "_view_module": "@jupyter-widgets/output",
            "_view_module_version": "1.0.0",
            "_view_name": "OutputView",
            "layout": "IPY_MODEL_60018c2abcc346db8a058b401adc0af8",
            "msg_id": "",
            "outputs": []
          }
        },
        "efff8f4331314740bd68c73a07f87f06": {
          "model_module": "@jupyter-widgets/base",
          "model_name": "LayoutModel",
          "model_module_version": "1.2.0",
          "state": {
            "_model_module": "@jupyter-widgets/base",
            "_model_module_version": "1.2.0",
            "_model_name": "LayoutModel",
            "_view_count": null,
            "_view_module": "@jupyter-widgets/base",
            "_view_module_version": "1.2.0",
            "_view_name": "LayoutView",
            "align_content": null,
            "align_items": null,
            "align_self": null,
            "border": null,
            "bottom": null,
            "display": null,
            "flex": null,
            "flex_flow": null,
            "grid_area": null,
            "grid_auto_columns": null,
            "grid_auto_flow": null,
            "grid_auto_rows": null,
            "grid_column": null,
            "grid_gap": null,
            "grid_row": null,
            "grid_template_areas": null,
            "grid_template_columns": null,
            "grid_template_rows": null,
            "height": null,
            "justify_content": null,
            "justify_items": null,
            "left": null,
            "margin": null,
            "max_height": null,
            "max_width": null,
            "min_height": null,
            "min_width": null,
            "object_fit": null,
            "object_position": null,
            "order": null,
            "overflow": null,
            "overflow_x": null,
            "overflow_y": null,
            "padding": null,
            "right": null,
            "top": null,
            "visibility": null,
            "width": null
          }
        },
        "445174e50e3546b19e768fbaab31d2cd": {
          "model_module": "@jupyter-widgets/base",
          "model_name": "LayoutModel",
          "model_module_version": "1.2.0",
          "state": {
            "_model_module": "@jupyter-widgets/base",
            "_model_module_version": "1.2.0",
            "_model_name": "LayoutModel",
            "_view_count": null,
            "_view_module": "@jupyter-widgets/base",
            "_view_module_version": "1.2.0",
            "_view_name": "LayoutView",
            "align_content": null,
            "align_items": null,
            "align_self": null,
            "border": null,
            "bottom": null,
            "display": null,
            "flex": null,
            "flex_flow": null,
            "grid_area": null,
            "grid_auto_columns": null,
            "grid_auto_flow": null,
            "grid_auto_rows": null,
            "grid_column": null,
            "grid_gap": null,
            "grid_row": null,
            "grid_template_areas": null,
            "grid_template_columns": null,
            "grid_template_rows": null,
            "height": null,
            "justify_content": null,
            "justify_items": null,
            "left": null,
            "margin": null,
            "max_height": null,
            "max_width": null,
            "min_height": null,
            "min_width": null,
            "object_fit": null,
            "object_position": null,
            "order": null,
            "overflow": null,
            "overflow_x": null,
            "overflow_y": null,
            "padding": null,
            "right": null,
            "top": null,
            "visibility": null,
            "width": null
          }
        },
        "f7e788805cd34f249ad0b9511e132cae": {
          "model_module": "@jupyter-widgets/controls",
          "model_name": "DescriptionStyleModel",
          "model_module_version": "1.5.0",
          "state": {
            "_model_module": "@jupyter-widgets/controls",
            "_model_module_version": "1.5.0",
            "_model_name": "DescriptionStyleModel",
            "_view_count": null,
            "_view_module": "@jupyter-widgets/base",
            "_view_module_version": "1.2.0",
            "_view_name": "StyleView",
            "description_width": ""
          }
        },
        "559e38e4a4c443d78a3cff5358c98bf7": {
          "model_module": "@jupyter-widgets/base",
          "model_name": "LayoutModel",
          "model_module_version": "1.2.0",
          "state": {
            "_model_module": "@jupyter-widgets/base",
            "_model_module_version": "1.2.0",
            "_model_name": "LayoutModel",
            "_view_count": null,
            "_view_module": "@jupyter-widgets/base",
            "_view_module_version": "1.2.0",
            "_view_name": "LayoutView",
            "align_content": null,
            "align_items": null,
            "align_self": null,
            "border": null,
            "bottom": null,
            "display": null,
            "flex": null,
            "flex_flow": null,
            "grid_area": null,
            "grid_auto_columns": null,
            "grid_auto_flow": null,
            "grid_auto_rows": null,
            "grid_column": null,
            "grid_gap": null,
            "grid_row": null,
            "grid_template_areas": null,
            "grid_template_columns": null,
            "grid_template_rows": null,
            "height": null,
            "justify_content": null,
            "justify_items": null,
            "left": null,
            "margin": null,
            "max_height": null,
            "max_width": null,
            "min_height": null,
            "min_width": null,
            "object_fit": null,
            "object_position": null,
            "order": null,
            "overflow": null,
            "overflow_x": null,
            "overflow_y": null,
            "padding": null,
            "right": null,
            "top": null,
            "visibility": null,
            "width": null
          }
        },
        "50f932ad1b3b444fa177d9492ddbeeff": {
          "model_module": "@jupyter-widgets/controls",
          "model_name": "DescriptionStyleModel",
          "model_module_version": "1.5.0",
          "state": {
            "_model_module": "@jupyter-widgets/controls",
            "_model_module_version": "1.5.0",
            "_model_name": "DescriptionStyleModel",
            "_view_count": null,
            "_view_module": "@jupyter-widgets/base",
            "_view_module_version": "1.2.0",
            "_view_name": "StyleView",
            "description_width": ""
          }
        },
        "0e3746037f964ddbbc08bd2a2a9f4b70": {
          "model_module": "@jupyter-widgets/base",
          "model_name": "LayoutModel",
          "model_module_version": "1.2.0",
          "state": {
            "_model_module": "@jupyter-widgets/base",
            "_model_module_version": "1.2.0",
            "_model_name": "LayoutModel",
            "_view_count": null,
            "_view_module": "@jupyter-widgets/base",
            "_view_module_version": "1.2.0",
            "_view_name": "LayoutView",
            "align_content": null,
            "align_items": null,
            "align_self": null,
            "border": null,
            "bottom": null,
            "display": null,
            "flex": null,
            "flex_flow": null,
            "grid_area": null,
            "grid_auto_columns": null,
            "grid_auto_flow": null,
            "grid_auto_rows": null,
            "grid_column": null,
            "grid_gap": null,
            "grid_row": null,
            "grid_template_areas": null,
            "grid_template_columns": null,
            "grid_template_rows": null,
            "height": null,
            "justify_content": null,
            "justify_items": null,
            "left": null,
            "margin": null,
            "max_height": null,
            "max_width": null,
            "min_height": null,
            "min_width": null,
            "object_fit": null,
            "object_position": null,
            "order": null,
            "overflow": null,
            "overflow_x": null,
            "overflow_y": null,
            "padding": null,
            "right": null,
            "top": null,
            "visibility": null,
            "width": null
          }
        },
        "cc492f7ea15343bfbe7a9092ccb11b45": {
          "model_module": "@jupyter-widgets/controls",
          "model_name": "DescriptionStyleModel",
          "model_module_version": "1.5.0",
          "state": {
            "_model_module": "@jupyter-widgets/controls",
            "_model_module_version": "1.5.0",
            "_model_name": "DescriptionStyleModel",
            "_view_count": null,
            "_view_module": "@jupyter-widgets/base",
            "_view_module_version": "1.2.0",
            "_view_name": "StyleView",
            "description_width": ""
          }
        },
        "f53ca29b732340ad931c9cc9a519fa6d": {
          "model_module": "@jupyter-widgets/base",
          "model_name": "LayoutModel",
          "model_module_version": "1.2.0",
          "state": {
            "_model_module": "@jupyter-widgets/base",
            "_model_module_version": "1.2.0",
            "_model_name": "LayoutModel",
            "_view_count": null,
            "_view_module": "@jupyter-widgets/base",
            "_view_module_version": "1.2.0",
            "_view_name": "LayoutView",
            "align_content": null,
            "align_items": null,
            "align_self": null,
            "border": null,
            "bottom": null,
            "display": null,
            "flex": null,
            "flex_flow": null,
            "grid_area": null,
            "grid_auto_columns": null,
            "grid_auto_flow": null,
            "grid_auto_rows": null,
            "grid_column": null,
            "grid_gap": null,
            "grid_row": null,
            "grid_template_areas": null,
            "grid_template_columns": null,
            "grid_template_rows": null,
            "height": null,
            "justify_content": null,
            "justify_items": null,
            "left": null,
            "margin": null,
            "max_height": null,
            "max_width": null,
            "min_height": null,
            "min_width": null,
            "object_fit": null,
            "object_position": null,
            "order": null,
            "overflow": null,
            "overflow_x": null,
            "overflow_y": null,
            "padding": null,
            "right": null,
            "top": null,
            "visibility": null,
            "width": null
          }
        },
        "96c59175841b4af3a0cfa94f422a1f29": {
          "model_module": "@jupyter-widgets/controls",
          "model_name": "DescriptionStyleModel",
          "model_module_version": "1.5.0",
          "state": {
            "_model_module": "@jupyter-widgets/controls",
            "_model_module_version": "1.5.0",
            "_model_name": "DescriptionStyleModel",
            "_view_count": null,
            "_view_module": "@jupyter-widgets/base",
            "_view_module_version": "1.2.0",
            "_view_name": "StyleView",
            "description_width": ""
          }
        },
        "17fbece30a7e4eb682df0751cefbf943": {
          "model_module": "@jupyter-widgets/base",
          "model_name": "LayoutModel",
          "model_module_version": "1.2.0",
          "state": {
            "_model_module": "@jupyter-widgets/base",
            "_model_module_version": "1.2.0",
            "_model_name": "LayoutModel",
            "_view_count": null,
            "_view_module": "@jupyter-widgets/base",
            "_view_module_version": "1.2.0",
            "_view_name": "LayoutView",
            "align_content": null,
            "align_items": null,
            "align_self": null,
            "border": null,
            "bottom": null,
            "display": null,
            "flex": null,
            "flex_flow": null,
            "grid_area": null,
            "grid_auto_columns": null,
            "grid_auto_flow": null,
            "grid_auto_rows": null,
            "grid_column": null,
            "grid_gap": null,
            "grid_row": null,
            "grid_template_areas": null,
            "grid_template_columns": null,
            "grid_template_rows": null,
            "height": null,
            "justify_content": null,
            "justify_items": null,
            "left": null,
            "margin": null,
            "max_height": null,
            "max_width": null,
            "min_height": null,
            "min_width": null,
            "object_fit": null,
            "object_position": null,
            "order": null,
            "overflow": null,
            "overflow_x": null,
            "overflow_y": null,
            "padding": null,
            "right": null,
            "top": null,
            "visibility": null,
            "width": null
          }
        },
        "800b3221758d4021b88061c171de6d51": {
          "model_module": "@jupyter-widgets/controls",
          "model_name": "ButtonStyleModel",
          "model_module_version": "1.5.0",
          "state": {
            "_model_module": "@jupyter-widgets/controls",
            "_model_module_version": "1.5.0",
            "_model_name": "ButtonStyleModel",
            "_view_count": null,
            "_view_module": "@jupyter-widgets/base",
            "_view_module_version": "1.2.0",
            "_view_name": "StyleView",
            "button_color": null,
            "font_weight": ""
          }
        },
        "60018c2abcc346db8a058b401adc0af8": {
          "model_module": "@jupyter-widgets/base",
          "model_name": "LayoutModel",
          "model_module_version": "1.2.0",
          "state": {
            "_model_module": "@jupyter-widgets/base",
            "_model_module_version": "1.2.0",
            "_model_name": "LayoutModel",
            "_view_count": null,
            "_view_module": "@jupyter-widgets/base",
            "_view_module_version": "1.2.0",
            "_view_name": "LayoutView",
            "align_content": null,
            "align_items": null,
            "align_self": null,
            "border": null,
            "bottom": null,
            "display": null,
            "flex": null,
            "flex_flow": null,
            "grid_area": null,
            "grid_auto_columns": null,
            "grid_auto_flow": null,
            "grid_auto_rows": null,
            "grid_column": null,
            "grid_gap": null,
            "grid_row": null,
            "grid_template_areas": null,
            "grid_template_columns": null,
            "grid_template_rows": null,
            "height": null,
            "justify_content": null,
            "justify_items": null,
            "left": null,
            "margin": null,
            "max_height": null,
            "max_width": null,
            "min_height": null,
            "min_width": null,
            "object_fit": null,
            "object_position": null,
            "order": null,
            "overflow": null,
            "overflow_x": null,
            "overflow_y": null,
            "padding": null,
            "right": null,
            "top": null,
            "visibility": null,
            "width": null
          }
        }
      }
    }
  },
  "cells": [
    {
      "cell_type": "markdown",
      "metadata": {
        "id": "view-in-github",
        "colab_type": "text"
      },
      "source": [
        "<a href=\"https://colab.research.google.com/github/DiGyt/snippets/blob/master/market_corr.ipynb\" target=\"_parent\"><img src=\"https://colab.research.google.com/assets/colab-badge.svg\" alt=\"Open In Colab\"/></a>"
      ]
    },
    {
      "cell_type": "markdown",
      "source": [
        "**Click the above Google Colab link to run this notebook directly through your browser.**\n",
        "<br/><br/>\n",
        "\n",
        "---"
      ],
      "metadata": {
        "id": "W50CuJ-d2Uv2"
      }
    },
    {
      "cell_type": "markdown",
      "source": [
        "# Google Trends meets Yahoo Finance\n",
        "___\n",
        "_Dirk Gütlin_"
      ],
      "metadata": {
        "id": "7fz-vYKN-Xwf"
      }
    },
    {
      "cell_type": "markdown",
      "source": [
        "Always wondered about the correlation between stock data and online information trends?\n",
        "\n",
        "In this blog post, I present a small tool to explore the relationships between a specific trend on Google Trends and a stock ticker on Yahoo Finance. By comparing the data from these two sources, we can to shed light on any potential correlations that may exist.\n",
        "\n",
        "Whether you are a seasoned investor or simply interested in the intersection of finance and online trends, this blog post will provide valuable insights into the relationship between these two fields. If you're eager to dive right in, feel free to skip the _Preparations_ section and get started exploring in the _Play Around_ section."
      ],
      "metadata": {
        "id": "nxO_7tGu-rQF"
      }
    },
    {
      "cell_type": "markdown",
      "source": [
        "## Preparations"
      ],
      "metadata": {
        "id": "dPSjGQ27s8qY"
      }
    },
    {
      "cell_type": "markdown",
      "source": [
        "First, install the trendreq library."
      ],
      "metadata": {
        "id": "PI2EU1iq7J0g"
      }
    },
    {
      "cell_type": "code",
      "source": [
        "# install my version of pytrends with the latest bugfixes\n",
        "!pip install git+https://github.com/DiGyt/pytrends.git -q"
      ],
      "metadata": {
        "id": "bKZLVGl0V3Q2",
        "outputId": "ff3aae1e-201c-44a7-9f97-c1bf02b4fe5b",
        "colab": {
          "base_uri": "https://localhost:8080/"
        }
      },
      "execution_count": 119,
      "outputs": [
        {
          "output_type": "stream",
          "name": "stdout",
          "text": [
            "  Installing build dependencies ... \u001b[?25l\u001b[?25hdone\n",
            "  Getting requirements to build wheel ... \u001b[?25l\u001b[?25hdone\n",
            "  Installing backend dependencies ... \u001b[?25l\u001b[?25hdone\n",
            "  Preparing metadata (pyproject.toml) ... \u001b[?25l\u001b[?25hdone\n"
          ]
        }
      ]
    },
    {
      "cell_type": "markdown",
      "source": [
        "Import relevant libraries.all libraries used in this notebook."
      ],
      "metadata": {
        "id": "MEf6oLFN7RXr"
      }
    },
    {
      "cell_type": "code",
      "source": [
        "# import libraries\n",
        "import pandas as pd\n",
        "import yfinance as yf\n",
        "from pytrends.request import TrendReq\n",
        "\n",
        "import ipywidgets as widgets\n",
        "\n",
        "import matplotlib.pyplot as plt\n",
        "import matplotlib.gridspec as gridspec\n",
        "import seaborn as sns\n",
        "\n",
        "# set plotting style\n",
        "sns.set_style(\"darkgrid\")"
      ],
      "metadata": {
        "id": "-k8GzBhxfjvb"
      },
      "execution_count": 120,
      "outputs": []
    },
    {
      "cell_type": "markdown",
      "source": [
        "Now, lets define some functions to combine Google Trends and Yahoo Finance and plot the data."
      ],
      "metadata": {
        "id": "Xk672gN77EPy"
      }
    },
    {
      "cell_type": "code",
      "source": [
        "def get_trend_stock_df(trend_query, stock_ticker, start_date, end_date):\n",
        "  \"\"\"Download and combine google trends and yahoo stock data.\"\"\"\n",
        "\n",
        "  # Set up Google Trends API connection\n",
        "  pytrends = TrendReq(hl='en-US', tz=360)\n",
        "\n",
        "  # Retrieve Google Trends data\n",
        "  pytrends.build_payload(kw_list=[trend_query],\n",
        "                         timeframe=f'{start_date} {end_date}')\n",
        "  trends_df = pytrends.interest_over_time().drop(columns=['isPartial'])\n",
        "\n",
        "  # Retrieve stock data\n",
        "  stock_df = yf.download(stock_ticker, start=start_date,\n",
        "                         end=end_date, progress=False)[['Close']]\n",
        "\n",
        "  # Resample both dataframes to 1-day frequency\n",
        "  trends_df = trends_df.resample('1D').mean()\n",
        "  stock_df = stock_df.resample('1D').ffill()\n",
        "\n",
        "  # normalize stock as percentage of current price\n",
        "  stock_df = stock_df / stock_df.max() * 100\n",
        "  #stock_df = stock_df.pct_change() * 100\n",
        "\n",
        "  # Join the dataframes based on date\n",
        "  df = pd.concat([trends_df, stock_df], axis=1, join='inner')\n",
        "\n",
        "  # rename the columns\n",
        "  col_names = [f\"Trend Query: {trend_query}\", f\"Stock Ticker: {stock_ticker}\"]\n",
        "  df.columns = col_names\n",
        "\n",
        "  return df\n",
        "\n",
        "\n",
        "def plot_panel(df):\n",
        "  \"\"\"Plot Information about stock/trend correlation in different forms.\"\"\"\n",
        "\n",
        "  # extract column names\n",
        "  col_names = df.columns\n",
        "\n",
        "  # Create figure and gridspec\n",
        "  fig = plt.figure(figsize=(10, 8))\n",
        "  gs = fig.add_gridspec(nrows=2, ncols=2, height_ratios=[2, 1])\n",
        "\n",
        "  # First subplot: large broad panel\n",
        "  ax = fig.add_subplot(gs[0, :])\n",
        "  sns.lineplot(data=df, dashes=False, ax=ax) \n",
        "  ax.set(title='Trend Interest and Stock Closing Price (as % of max Interest / Price)',\n",
        "         xlabel='Date', ylabel='% Interest / Closing Price')\n",
        "  \n",
        "  # define rho string\n",
        "  rho = r\"$\\rho$\"\n",
        "  corr = df[col_names[0]].corr(df[col_names[1]])\n",
        "\n",
        "  # Second subplot: small panel on the left\n",
        "  ax = fig.add_subplot(gs[1, 0])\n",
        "  sns.regplot(x=col_names[0],y=col_names[1],data=df, fit_reg=True, ax=ax) \n",
        "  ax.set(title=f'Trend vs Stock Scatter Plot ({rho} = {corr:.3f})')\n",
        "\n",
        "  # Third subplot: small panel on the right\n",
        "  n_days = min([100, len(df) - 3])\n",
        "  corrs = [df[col_names[0]].corr(df[col_names[1]].shift(i)) for i in range(n_days)]\n",
        "  ax = fig.add_subplot(gs[1, 1])\n",
        "  sns.lineplot(corrs, ax=ax)\n",
        "  ax.set(title='Granger Correlation',\n",
        "        xlabel='Trend predating Stock by N Days',\n",
        "         ylabel=f'Correlation Coefficient {rho}')\n",
        "\n",
        "  # Adjust layout\n",
        "  plt.tight_layout()\n",
        "\n",
        "  # Show plot\n",
        "  plt.show()\n",
        "\n",
        "\n",
        "def get_trend_and_plot(trend_query, stock_ticker, start_date, end_date):\n",
        "  \"\"\"Download the trends and stock and then plot them.\"\"\"\n",
        "  df = get_trend_stock_df(trend_query, stock_ticker, start_date, end_date)\n",
        "  plot_panel(df)"
      ],
      "metadata": {
        "id": "V_Q4pmW6gIhx"
      },
      "execution_count": 121,
      "outputs": []
    },
    {
      "cell_type": "markdown",
      "source": [
        "## Play around\n",
        "\n",
        "Just enter the Google Trend of interest into the `trend_query` and the Yahoo Finance Ticker into the `stock_ticker` field.\n",
        "\n",
        "Note that the ticker name must match the according stock/index on Yahoo Finance (e.g. the NASDAQ is listed as '^IXIC'). If you're not sure about the correct Ticker name, search your stock/index on [Yahoo Finance](https://finance.yahoo.com) and copy the ticker.\n",
        "\n",
        "Additionally, you can define a `start_date` and an `end_date` for the time range. Use the 'yyyy-mm-dd' format to define these dates.\n",
        "\n",
        "<font color=\"DodgerBlue\">**NOTE:** Note that the time span selected can greatly influence the Google Trends resolution and confidence intervals of the correlation coefficients. Also, we plot raw stock courses in order to investigate relations. In a _stock prediction_ context, this might not be the best choice.</font>"
      ],
      "metadata": {
        "id": "4QLmj-ZRtNkc"
      }
    },
    {
      "cell_type": "code",
      "source": [
        "# Display the widgets and button\n",
        "widgets.interact_manual(get_trend_and_plot,\n",
        "                        trend_query=\"Market Crash\", stock_ticker=\"SPY\",\n",
        "                        start_date=\"2022-08-01\", end_date=\"2023-04-01\");"
      ],
      "metadata": {
        "colab": {
          "base_uri": "https://localhost:8080/",
          "height": 180,
          "referenced_widgets": [
            "004626bd014d4083ba1951c0a2641918",
            "77fe80583bbb4d459727d40c60e7d00b",
            "8f97660bb18b40b8ad0a43c92223ae99",
            "77e3a2eaf7894e8db08581bb96e6ba10",
            "d91dc5eaf5564031b45b123b37aba3b1",
            "94fbaa8822cd490e87f6d799fd181c47",
            "f3d54e370a5443f189e9603ced2c5eef",
            "efff8f4331314740bd68c73a07f87f06",
            "445174e50e3546b19e768fbaab31d2cd",
            "f7e788805cd34f249ad0b9511e132cae",
            "559e38e4a4c443d78a3cff5358c98bf7",
            "50f932ad1b3b444fa177d9492ddbeeff",
            "0e3746037f964ddbbc08bd2a2a9f4b70",
            "cc492f7ea15343bfbe7a9092ccb11b45",
            "f53ca29b732340ad931c9cc9a519fa6d",
            "96c59175841b4af3a0cfa94f422a1f29",
            "17fbece30a7e4eb682df0751cefbf943",
            "800b3221758d4021b88061c171de6d51",
            "60018c2abcc346db8a058b401adc0af8"
          ]
        },
        "id": "BbXd7nWetNCb",
        "outputId": "ec07909f-1d89-45e9-f1c6-844570257826"
      },
      "execution_count": 122,
      "outputs": [
        {
          "output_type": "display_data",
          "data": {
            "text/plain": [
              "interactive(children=(Text(value='Market Crash', description='trend_query'), Text(value='SPY', description='st…"
            ],
            "application/vnd.jupyter.widget-view+json": {
              "version_major": 2,
              "version_minor": 0,
              "model_id": "004626bd014d4083ba1951c0a2641918"
            }
          },
          "metadata": {}
        }
      ]
    },
    {
      "cell_type": "markdown",
      "source": [
        "Voilà. Now you can investigate the correlation between any Google Search Trend and any stock listed on Yahoo Finance.\n",
        "\n",
        "___\n",
        "\n",
        "A final word to note is one of caution: Just because we might see a large correlation for some stock with some trend does not mean that this correlation will continue in the future. The stock market is a very complex system and you will see that if you look at the same trend-stock relation over different time frames, the correlation can vary extremely. Additionally you need to be aware that correlation != causation. Sometimes it might seem like the trend is meaningfulyl predicting the stock, anyhow this might be just a reverse relation that's originally caused by the stock movement. For an example of this, check the relation between the query `Bank Run` and the Silicon Valley Bank `SIVB`. 😉\n",
        "\n",
        "So while there's still a lot more to do before being able to turn this information into a profitable trading strategy, it's a great start and gives a great intuition on how the finance world works."
      ],
      "metadata": {
        "id": "DvC5qd7dyVPS"
      }
    }
  ]
}